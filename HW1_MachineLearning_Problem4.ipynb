{
  "nbformat": 4,
  "nbformat_minor": 0,
  "metadata": {
    "colab": {
      "name": "HW1_MachineLearning_Problem4.ipynb",
      "version": "0.3.2",
      "provenance": [],
      "collapsed_sections": [],
      "include_colab_link": true
    },
    "kernelspec": {
      "name": "python3",
      "display_name": "Python 3"
    },
    "accelerator": "GPU"
  },
  "cells": [
    {
      "cell_type": "markdown",
      "metadata": {
        "id": "view-in-github",
        "colab_type": "text"
      },
      "source": [
        "<a href=\"https://colab.research.google.com/github/WesleyAldridge/HW1_MachineLearning/blob/master/HW1_MachineLearning_Problem4.ipynb\" target=\"_parent\"><img src=\"https://colab.research.google.com/assets/colab-badge.svg\" alt=\"Open In Colab\"/></a>"
      ]
    },
    {
      "metadata": {
        "id": "7ci243Btupkd",
        "colab_type": "text"
      },
      "cell_type": "markdown",
      "source": [
        "#Problem 4:\n",
        "- Reimplement the network from Problem 3 entirely in Keras.\n",
        "- (Create network with an input layer consisting of 28 x 28 input neurons and an output layer consisting of 10 output neurons.\n",
        "Use softmax and categorical cross entropy loss.)\n",
        "- (Implement mini-batch stochastic gradient descent)"
      ]
    },
    {
      "metadata": {
        "id": "udM93r3R_VGu",
        "colab_type": "code",
        "colab": {}
      },
      "cell_type": "code",
      "source": [
        "import keras\n",
        "from keras.models import Sequential\n",
        "from keras.layers import Dense, Dropout, Activation\n",
        "from keras.optimizers import SGD\n",
        "import numpy as np\n",
        "from keras.datasets import mnist\n",
        "from keras.utils import to_categorical"
      ],
      "execution_count": 0,
      "outputs": []
    },
    {
      "metadata": {
        "id": "E90oQllQ4ZCH",
        "colab_type": "text"
      },
      "cell_type": "markdown",
      "source": [
        "#Part 1:\n",
        "##Load the training and test data using Keras, no validation set needed"
      ]
    },
    {
      "metadata": {
        "id": "J4OGNGEtPbKV",
        "colab_type": "code",
        "colab": {}
      },
      "cell_type": "code",
      "source": [
        "# load train and test data\n",
        "(train_images_original, train_labels_original), (test_images_original, test_labels_original) = mnist.load_data()"
      ],
      "execution_count": 0,
      "outputs": []
    },
    {
      "metadata": {
        "id": "l7GviosOYVxB",
        "colab_type": "text"
      },
      "cell_type": "markdown",
      "source": [
        "####Prepare data"
      ]
    },
    {
      "metadata": {
        "id": "DYFv5QCGTa2V",
        "colab_type": "code",
        "outputId": "75c75a8a-6a33-4cfd-84d7-39397cea62dc",
        "colab": {
          "base_uri": "https://localhost:8080/",
          "height": 34
        }
      },
      "cell_type": "code",
      "source": [
        "# 60000 training images\n",
        "# 10000 testing images\n",
        "# 28*28 = 784 pixels per image/input neurons per classifier/features\n",
        "# 10 output neurons per image\n",
        "\n",
        "train_images = train_images_original.reshape((60000, 28 * 28))\n",
        "train_images = train_images.astype('float32') / 255\n",
        "\n",
        "test_images = test_images_original.reshape((10000, 28 * 28))\n",
        "test_images = test_images.astype('float32') / 255\n",
        "\n",
        "train_images.shape, test_images.shape"
      ],
      "execution_count": 40,
      "outputs": [
        {
          "output_type": "execute_result",
          "data": {
            "text/plain": [
              "((60000, 784), (10000, 784))"
            ]
          },
          "metadata": {
            "tags": []
          },
          "execution_count": 40
        }
      ]
    },
    {
      "metadata": {
        "id": "pjv3dDVcpGXe",
        "colab_type": "code",
        "outputId": "e5a1b3c7-8e8b-4bf2-da4b-90ec36e00d65",
        "colab": {
          "base_uri": "https://localhost:8080/",
          "height": 51
        }
      },
      "cell_type": "code",
      "source": [
        "# to_categorical: Converts a class vector (integers) to binary class matrix\n",
        "print(train_labels_original[0])\n",
        "train_labels = to_categorical(train_labels_original)\n",
        "print(train_labels[0])\n",
        "\n",
        "test_labels = to_categorical(test_labels_original)"
      ],
      "execution_count": 41,
      "outputs": [
        {
          "output_type": "stream",
          "text": [
            "5\n",
            "[0. 0. 0. 0. 0. 1. 0. 0. 0. 0.]\n"
          ],
          "name": "stdout"
        }
      ]
    },
    {
      "metadata": {
        "id": "khNvh0F54pBv",
        "colab_type": "text"
      },
      "cell_type": "markdown",
      "source": [
        "#Part 2: \n",
        "\n",
        "#### Create a network with an input layer consisting of 28 x 28 input neurons and an output layer consisting of 10 output neurons.\n",
        "\n",
        "#### Use softmax and categorical cross entropy loss\n",
        "#### Implement mini-batch stochastic gradient descent\n",
        "\n",
        "###Entirely in Keras"
      ]
    },
    {
      "metadata": {
        "id": "c44K1jzeAT7J",
        "colab_type": "code",
        "colab": {
          "base_uri": "https://localhost:8080/",
          "height": 714
        },
        "outputId": "a5d279b5-845e-4484-9065-1bd5640fd350"
      },
      "cell_type": "code",
      "source": [
        "# create a network\n",
        "model = Sequential()\n",
        "model.add(Dense(10, activation='softmax', input_dim=28*28))\n",
        "sgd = SGD(lr = 0.5, decay = 1e-6, momentum = 0.9, nesterov=True)\n",
        "\n",
        "# compile the model\n",
        "model.compile(loss='categorical_crossentropy',\n",
        "              optimizer = sgd,\n",
        "              metrics = ['accuracy'])\n",
        "\n",
        "# train the model\n",
        "model.fit(train_images, train_labels, epochs = 20, batch_size=32)\n",
        "score = model.evaluate(test_images, test_labels, batch_size=32)"
      ],
      "execution_count": 42,
      "outputs": [
        {
          "output_type": "stream",
          "text": [
            "Epoch 1/20\n",
            "60000/60000 [==============================] - 6s 103us/step - loss: 1.1090 - acc: 0.8720\n",
            "Epoch 2/20\n",
            "60000/60000 [==============================] - 6s 102us/step - loss: 1.0140 - acc: 0.8993\n",
            "Epoch 3/20\n",
            "60000/60000 [==============================] - 6s 101us/step - loss: 0.9742 - acc: 0.9078\n",
            "Epoch 4/20\n",
            "60000/60000 [==============================] - 6s 101us/step - loss: 0.9718 - acc: 0.9102\n",
            "Epoch 5/20\n",
            "60000/60000 [==============================] - 6s 102us/step - loss: 0.9347 - acc: 0.9146\n",
            "Epoch 6/20\n",
            "60000/60000 [==============================] - 6s 102us/step - loss: 0.9252 - acc: 0.9168\n",
            "Epoch 7/20\n",
            "60000/60000 [==============================] - 6s 101us/step - loss: 0.9072 - acc: 0.9178\n",
            "Epoch 8/20\n",
            "60000/60000 [==============================] - 6s 101us/step - loss: 0.9047 - acc: 0.9191\n",
            "Epoch 9/20\n",
            "60000/60000 [==============================] - 6s 101us/step - loss: 0.8970 - acc: 0.9199\n",
            "Epoch 10/20\n",
            "60000/60000 [==============================] - 6s 103us/step - loss: 0.8911 - acc: 0.9215\n",
            "Epoch 11/20\n",
            "60000/60000 [==============================] - 6s 107us/step - loss: 0.8915 - acc: 0.9216\n",
            "Epoch 12/20\n",
            "60000/60000 [==============================] - 6s 101us/step - loss: 0.8740 - acc: 0.9233\n",
            "Epoch 13/20\n",
            "60000/60000 [==============================] - 6s 101us/step - loss: 0.8697 - acc: 0.9242\n",
            "Epoch 14/20\n",
            "60000/60000 [==============================] - 6s 101us/step - loss: 0.8614 - acc: 0.9250\n",
            "Epoch 15/20\n",
            "60000/60000 [==============================] - 6s 102us/step - loss: 0.8534 - acc: 0.9260\n",
            "Epoch 16/20\n",
            "60000/60000 [==============================] - 6s 101us/step - loss: 0.8513 - acc: 0.9271\n",
            "Epoch 17/20\n",
            "60000/60000 [==============================] - 6s 101us/step - loss: 0.8407 - acc: 0.9271\n",
            "Epoch 18/20\n",
            "60000/60000 [==============================] - 6s 102us/step - loss: 0.8400 - acc: 0.9274\n",
            "Epoch 19/20\n",
            "60000/60000 [==============================] - 6s 102us/step - loss: 0.8339 - acc: 0.9285\n",
            "Epoch 20/20\n",
            "60000/60000 [==============================] - 6s 103us/step - loss: 0.8377 - acc: 0.9288\n",
            "10000/10000 [==============================] - 1s 58us/step\n"
          ],
          "name": "stdout"
        }
      ]
    },
    {
      "metadata": {
        "id": "DRIs7T2TBjeb",
        "colab_type": "code",
        "colab": {
          "base_uri": "https://localhost:8080/",
          "height": 34
        },
        "outputId": "903d55cd-8b31-43f7-fc88-cc08bfea20bb"
      },
      "cell_type": "code",
      "source": [
        "score #loss, accuracy"
      ],
      "execution_count": 43,
      "outputs": [
        {
          "output_type": "execute_result",
          "data": {
            "text/plain": [
              "[0.9360698753563582, 0.9244]"
            ]
          },
          "metadata": {
            "tags": []
          },
          "execution_count": 43
        }
      ]
    }
  ]
}