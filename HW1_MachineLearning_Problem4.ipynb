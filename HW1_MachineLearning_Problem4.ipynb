{
  "nbformat": 4,
  "nbformat_minor": 0,
  "metadata": {
    "colab": {
      "name": "HW1_MachineLearning_Problem4.ipynb",
      "version": "0.3.2",
      "provenance": [],
      "collapsed_sections": [],
      "include_colab_link": true
    },
    "kernelspec": {
      "name": "python3",
      "display_name": "Python 3"
    },
    "accelerator": "GPU"
  },
  "cells": [
    {
      "cell_type": "markdown",
      "metadata": {
        "id": "view-in-github",
        "colab_type": "text"
      },
      "source": [
        "<a href=\"https://colab.research.google.com/github/WesleyAldridge/HW1_MachineLearning/blob/master/HW1_MachineLearning_Problem4.ipynb\" target=\"_parent\"><img src=\"https://colab.research.google.com/assets/colab-badge.svg\" alt=\"Open In Colab\"/></a>"
      ]
    },
    {
      "metadata": {
        "id": "7ci243Btupkd",
        "colab_type": "text"
      },
      "cell_type": "markdown",
      "source": [
        "#Problem 4:\n",
        "- Reimplement the network from Problem 3 entirely in Keras.\n",
        "- (Create network with an input layer consisting of 28 x 28 input neurons and an output layer consisting of 10 output neurons.\n",
        "Use softmax and categorical cross entropy loss.)\n",
        "- (Implement mini-batch stochastic gradient descent)"
      ]
    },
    {
      "metadata": {
        "id": "udM93r3R_VGu",
        "colab_type": "code",
        "colab": {}
      },
      "cell_type": "code",
      "source": [
        "import keras\n",
        "from keras.models import Sequential\n",
        "from keras.layers import Dense, Activation\n",
        "from keras.optimizers import SGD\n",
        "from keras.datasets import mnist\n",
        "from keras.utils import to_categorical"
      ],
      "execution_count": 0,
      "outputs": []
    },
    {
      "metadata": {
        "id": "E90oQllQ4ZCH",
        "colab_type": "text"
      },
      "cell_type": "markdown",
      "source": [
        "#Part 1:\n",
        "##Load the training and test data using Keras, no validation set needed"
      ]
    },
    {
      "metadata": {
        "id": "J4OGNGEtPbKV",
        "colab_type": "code",
        "colab": {}
      },
      "cell_type": "code",
      "source": [
        "# load train and test data\n",
        "(train_images_original, train_labels_original), (test_images_original, test_labels_original) = mnist.load_data()"
      ],
      "execution_count": 0,
      "outputs": []
    },
    {
      "metadata": {
        "id": "DYFv5QCGTa2V",
        "colab_type": "code",
        "outputId": "69016348-bbd8-4d3f-b41a-ffafda9156cf",
        "colab": {
          "base_uri": "https://localhost:8080/",
          "height": 35
        }
      },
      "cell_type": "code",
      "source": [
        "train_images = train_images_original.reshape((60000, 28 * 28))\n",
        "train_images = train_images.astype('float32') / 255\n",
        "\n",
        "test_images = test_images_original.reshape((10000, 28 * 28))\n",
        "test_images = test_images.astype('float32') / 255\n",
        "\n",
        "train_images.shape, test_images.shape"
      ],
      "execution_count": 35,
      "outputs": [
        {
          "output_type": "execute_result",
          "data": {
            "text/plain": [
              "((60000, 784), (10000, 784))"
            ]
          },
          "metadata": {
            "tags": []
          },
          "execution_count": 35
        }
      ]
    },
    {
      "metadata": {
        "id": "pjv3dDVcpGXe",
        "colab_type": "code",
        "outputId": "c07caa50-1b83-4fdd-d297-fa0ecdf536ba",
        "colab": {
          "base_uri": "https://localhost:8080/",
          "height": 52
        }
      },
      "cell_type": "code",
      "source": [
        "print(train_labels_original[0])\n",
        "train_labels = to_categorical(train_labels_original)\n",
        "print(train_labels[0])\n",
        "\n",
        "test_labels = to_categorical(test_labels_original)"
      ],
      "execution_count": 36,
      "outputs": [
        {
          "output_type": "stream",
          "text": [
            "5\n",
            "[0. 0. 0. 0. 0. 1. 0. 0. 0. 0.]\n"
          ],
          "name": "stdout"
        }
      ]
    },
    {
      "metadata": {
        "id": "khNvh0F54pBv",
        "colab_type": "text"
      },
      "cell_type": "markdown",
      "source": [
        "#Part 2: \n",
        "\n",
        "#### Create a network with an input layer consisting of 28 x 28 input neurons and an output layer consisting of 10 output neurons.\n",
        "\n",
        "#### Use softmax and categorical cross entropy loss\n",
        "#### Implement mini-batch stochastic gradient descent\n",
        "\n",
        "###Entirely in Keras"
      ]
    },
    {
      "metadata": {
        "id": "c44K1jzeAT7J",
        "colab_type": "code",
        "outputId": "c1cfe771-ca2a-40f2-c596-d227564422f4",
        "colab": {
          "base_uri": "https://localhost:8080/",
          "height": 208
        }
      },
      "cell_type": "code",
      "source": [
        "# create a network\n",
        "model = Sequential()\n",
        "model.add(Dense(10, activation='softmax', input_dim=28*28))\n",
        "sgd = SGD(lr = 0.25)\n",
        "\n",
        "# compile the model\n",
        "model.compile(loss='categorical_crossentropy',\n",
        "              optimizer = sgd,\n",
        "              metrics = ['accuracy'])\n",
        "\n",
        "# train the model\n",
        "model.fit(train_images, train_labels, epochs = 5, batch_size=32)\n",
        "score = model.evaluate(test_images, test_labels, batch_size=32)"
      ],
      "execution_count": 37,
      "outputs": [
        {
          "output_type": "stream",
          "text": [
            "Epoch 1/5\n",
            "60000/60000 [==============================] - 6s 101us/step - loss: 0.3703 - acc: 0.8937\n",
            "Epoch 2/5\n",
            "60000/60000 [==============================] - 6s 98us/step - loss: 0.3028 - acc: 0.9140\n",
            "Epoch 3/5\n",
            "60000/60000 [==============================] - 6s 98us/step - loss: 0.2905 - acc: 0.9186\n",
            "Epoch 4/5\n",
            "60000/60000 [==============================] - 6s 98us/step - loss: 0.2837 - acc: 0.9195\n",
            "Epoch 5/5\n",
            "60000/60000 [==============================] - 6s 98us/step - loss: 0.2792 - acc: 0.9226\n",
            "10000/10000 [==============================] - 1s 51us/step\n"
          ],
          "name": "stdout"
        }
      ]
    },
    {
      "metadata": {
        "id": "DRIs7T2TBjeb",
        "colab_type": "code",
        "outputId": "d7c36d4d-5346-4b25-e26f-9d7fb3668a4f",
        "colab": {
          "base_uri": "https://localhost:8080/",
          "height": 35
        }
      },
      "cell_type": "code",
      "source": [
        "score #loss, accuracy\n",
        "print(str(score[1] * 100) + \"%\")"
      ],
      "execution_count": 38,
      "outputs": [
        {
          "output_type": "stream",
          "text": [
            "92.21000000000001%\n"
          ],
          "name": "stdout"
        }
      ]
    }
  ]
}