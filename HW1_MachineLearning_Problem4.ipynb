{
  "nbformat": 4,
  "nbformat_minor": 0,
  "metadata": {
    "colab": {
      "name": "HW1_MachineLearning_Problem4.ipynb",
      "version": "0.3.2",
      "provenance": [],
      "collapsed_sections": [],
      "include_colab_link": true
    },
    "kernelspec": {
      "name": "python3",
      "display_name": "Python 3"
    },
    "accelerator": "GPU"
  },
  "cells": [
    {
      "cell_type": "markdown",
      "metadata": {
        "id": "view-in-github",
        "colab_type": "text"
      },
      "source": [
        "<a href=\"https://colab.research.google.com/github/WesleyAldridge/HW1_MachineLearning/blob/master/HW1_MachineLearning_Problem4.ipynb\" target=\"_parent\"><img src=\"https://colab.research.google.com/assets/colab-badge.svg\" alt=\"Open In Colab\"/></a>"
      ]
    },
    {
      "metadata": {
        "id": "7ci243Btupkd",
        "colab_type": "text"
      },
      "cell_type": "markdown",
      "source": [
        "#Problem 4:\n",
        "- Reimplement the network from Problem 3 entirely in Keras.\n",
        "- (Create network with an input layer consisting of 28 x 28 input neurons and an output layer consisting of 10 output neurons.\n",
        "Use softmax and categorical cross entropy loss.)\n",
        "- (Implement mini-batch stochastic gradient descent)"
      ]
    },
    {
      "metadata": {
        "id": "udM93r3R_VGu",
        "colab_type": "code",
        "colab": {}
      },
      "cell_type": "code",
      "source": [
        "import keras\n",
        "from keras.models import Sequential\n",
        "from keras.layers import Dense, Activation\n",
        "from keras.optimizers import SGD\n",
        "from keras.datasets import mnist\n",
        "from keras.utils import to_categorical"
      ],
      "execution_count": 0,
      "outputs": []
    },
    {
      "metadata": {
        "id": "E90oQllQ4ZCH",
        "colab_type": "text"
      },
      "cell_type": "markdown",
      "source": [
        "#Part 1:\n",
        "##Load the training and test data using Keras, no validation set needed"
      ]
    },
    {
      "metadata": {
        "id": "J4OGNGEtPbKV",
        "colab_type": "code",
        "colab": {}
      },
      "cell_type": "code",
      "source": [
        "# load train and test data\n",
        "(train_images_original, train_labels_original), (test_images_original, test_labels_original) = mnist.load_data()"
      ],
      "execution_count": 0,
      "outputs": []
    },
    {
      "metadata": {
        "id": "l7GviosOYVxB",
        "colab_type": "text"
      },
      "cell_type": "markdown",
      "source": [
        "####Prepare data"
      ]
    },
    {
      "metadata": {
        "id": "DYFv5QCGTa2V",
        "colab_type": "code",
        "outputId": "8d2fdfb5-c9d7-4bd3-d451-43b0b03d54ff",
        "colab": {
          "base_uri": "https://localhost:8080/",
          "height": 35
        }
      },
      "cell_type": "code",
      "source": [
        "# 60000 training images\n",
        "# 10000 testing images\n",
        "# 28*28 = 784 pixels per image/input neurons per classifier/features\n",
        "# 10 output neurons per image\n",
        "\n",
        "train_images = train_images_original.reshape((60000, 28 * 28))\n",
        "train_images = train_images.astype('float32') / 255\n",
        "\n",
        "test_images = test_images_original.reshape((10000, 28 * 28))\n",
        "test_images = test_images.astype('float32') / 255\n",
        "\n",
        "train_images.shape, test_images.shape"
      ],
      "execution_count": 61,
      "outputs": [
        {
          "output_type": "execute_result",
          "data": {
            "text/plain": [
              "((60000, 784), (10000, 784))"
            ]
          },
          "metadata": {
            "tags": []
          },
          "execution_count": 61
        }
      ]
    },
    {
      "metadata": {
        "id": "pjv3dDVcpGXe",
        "colab_type": "code",
        "outputId": "47eac929-a20d-404d-82fe-5b9561ac29ec",
        "colab": {
          "base_uri": "https://localhost:8080/",
          "height": 52
        }
      },
      "cell_type": "code",
      "source": [
        "# to_categorical: Converts a class vector (integers) to binary class matrix\n",
        "print(train_labels_original[0])\n",
        "train_labels = to_categorical(train_labels_original)\n",
        "print(train_labels[0])\n",
        "\n",
        "test_labels = to_categorical(test_labels_original)"
      ],
      "execution_count": 62,
      "outputs": [
        {
          "output_type": "stream",
          "text": [
            "5\n",
            "[0. 0. 0. 0. 0. 1. 0. 0. 0. 0.]\n"
          ],
          "name": "stdout"
        }
      ]
    },
    {
      "metadata": {
        "id": "khNvh0F54pBv",
        "colab_type": "text"
      },
      "cell_type": "markdown",
      "source": [
        "#Part 2: \n",
        "\n",
        "#### Create a network with an input layer consisting of 28 x 28 input neurons and an output layer consisting of 10 output neurons.\n",
        "\n",
        "#### Use softmax and categorical cross entropy loss\n",
        "#### Implement mini-batch stochastic gradient descent\n",
        "\n",
        "###Entirely in Keras"
      ]
    },
    {
      "metadata": {
        "id": "c44K1jzeAT7J",
        "colab_type": "code",
        "outputId": "f2893879-d893-4831-c346-5da6e7addf9b",
        "colab": {
          "base_uri": "https://localhost:8080/",
          "height": 381
        }
      },
      "cell_type": "code",
      "source": [
        "# create a network\n",
        "model = Sequential()\n",
        "model.add(Dense(10, activation='softmax', input_dim=28*28))\n",
        "sgd = SGD(lr = 0.25)\n",
        "\n",
        "# compile the model\n",
        "model.compile(loss='categorical_crossentropy',\n",
        "              optimizer = sgd,\n",
        "              metrics = ['accuracy'])\n",
        "\n",
        "# train the model\n",
        "model.fit(train_images, train_labels, epochs = 10, batch_size=32)\n",
        "score = model.evaluate(test_images, test_labels, batch_size=32)"
      ],
      "execution_count": 63,
      "outputs": [
        {
          "output_type": "stream",
          "text": [
            "Epoch 1/10\n",
            "60000/60000 [==============================] - 6s 108us/step - loss: 0.3716 - acc: 0.8926\n",
            "Epoch 2/10\n",
            "60000/60000 [==============================] - 6s 99us/step - loss: 0.3021 - acc: 0.9151\n",
            "Epoch 3/10\n",
            "60000/60000 [==============================] - 6s 99us/step - loss: 0.2900 - acc: 0.9184\n",
            "Epoch 4/10\n",
            "60000/60000 [==============================] - 6s 99us/step - loss: 0.2835 - acc: 0.9201\n",
            "Epoch 5/10\n",
            "60000/60000 [==============================] - 6s 103us/step - loss: 0.2795 - acc: 0.9222\n",
            "Epoch 6/10\n",
            "60000/60000 [==============================] - 6s 104us/step - loss: 0.2754 - acc: 0.9236\n",
            "Epoch 7/10\n",
            "60000/60000 [==============================] - 6s 99us/step - loss: 0.2730 - acc: 0.9244\n",
            "Epoch 8/10\n",
            "60000/60000 [==============================] - 6s 100us/step - loss: 0.2700 - acc: 0.9258\n",
            "Epoch 9/10\n",
            "60000/60000 [==============================] - 6s 99us/step - loss: 0.2683 - acc: 0.9247\n",
            "Epoch 10/10\n",
            "60000/60000 [==============================] - 6s 100us/step - loss: 0.2672 - acc: 0.9249\n",
            "10000/10000 [==============================] - 1s 70us/step\n"
          ],
          "name": "stdout"
        }
      ]
    },
    {
      "metadata": {
        "id": "DRIs7T2TBjeb",
        "colab_type": "code",
        "outputId": "36bb3567-ed45-4bdf-b3b8-4b9673b1a09c",
        "colab": {
          "base_uri": "https://localhost:8080/",
          "height": 35
        }
      },
      "cell_type": "code",
      "source": [
        "score #loss, accuracy"
      ],
      "execution_count": 65,
      "outputs": [
        {
          "output_type": "execute_result",
          "data": {
            "text/plain": [
              "[0.2776033587753773, 0.9233]"
            ]
          },
          "metadata": {
            "tags": []
          },
          "execution_count": 65
        }
      ]
    }
  ]
}